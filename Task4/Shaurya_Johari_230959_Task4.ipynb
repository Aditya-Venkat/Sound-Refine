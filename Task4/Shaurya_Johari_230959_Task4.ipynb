{
  "nbformat": 4,
  "nbformat_minor": 0,
  "metadata": {
    "colab": {
      "provenance": [],
      "gpuType": "T4"
    },
    "kernelspec": {
      "name": "python3",
      "display_name": "Python 3"
    },
    "language_info": {
      "name": "python"
    },
    "accelerator": "GPU"
  },
  "cells": [
    {
      "cell_type": "code",
      "source": [
        "!pip install scikit-learn\n",
        "!pip install numpy --upgrade\n",
        "!pip install librosa --upgrade\n",
        "!pip install tensorflow"
      ],
      "metadata": {
        "colab": {
          "base_uri": "https://localhost:8080/"
        },
        "id": "X1Mv78iiXxs_",
        "outputId": "4d555d23-d09c-4209-fa69-9f0d20efd70e"
      },
      "execution_count": 1,
      "outputs": [
        {
          "output_type": "stream",
          "name": "stdout",
          "text": [
            "Requirement already satisfied: scikit-learn in /usr/local/lib/python3.10/dist-packages (1.2.2)\n",
            "Requirement already satisfied: numpy>=1.17.3 in /usr/local/lib/python3.10/dist-packages (from scikit-learn) (1.25.2)\n",
            "Requirement already satisfied: scipy>=1.3.2 in /usr/local/lib/python3.10/dist-packages (from scikit-learn) (1.11.4)\n",
            "Requirement already satisfied: joblib>=1.1.1 in /usr/local/lib/python3.10/dist-packages (from scikit-learn) (1.4.2)\n",
            "Requirement already satisfied: threadpoolctl>=2.0.0 in /usr/local/lib/python3.10/dist-packages (from scikit-learn) (3.5.0)\n",
            "Requirement already satisfied: numpy in /usr/local/lib/python3.10/dist-packages (1.25.2)\n",
            "Collecting numpy\n",
            "  Downloading numpy-2.0.0-cp310-cp310-manylinux_2_17_x86_64.manylinux2014_x86_64.whl (19.3 MB)\n",
            "\u001b[2K     \u001b[90m━━━━━━━━━━━━━━━━━━━━━━━━━━━━━━━━━━━━━━━━\u001b[0m \u001b[32m19.3/19.3 MB\u001b[0m \u001b[31m15.9 MB/s\u001b[0m eta \u001b[36m0:00:00\u001b[0m\n",
            "\u001b[?25hInstalling collected packages: numpy\n",
            "  Attempting uninstall: numpy\n",
            "    Found existing installation: numpy 1.25.2\n",
            "    Uninstalling numpy-1.25.2:\n",
            "      Successfully uninstalled numpy-1.25.2\n",
            "\u001b[31mERROR: pip's dependency resolver does not currently take into account all the packages that are installed. This behaviour is the source of the following dependency conflicts.\n",
            "astropy 5.3.4 requires numpy<2,>=1.21, but you have numpy 2.0.0 which is incompatible.\n",
            "cudf-cu12 24.4.1 requires numpy<2.0a0,>=1.23, but you have numpy 2.0.0 which is incompatible.\n",
            "cupy-cuda12x 12.2.0 requires numpy<1.27,>=1.20, but you have numpy 2.0.0 which is incompatible.\n",
            "ibis-framework 8.0.0 requires numpy<2,>=1, but you have numpy 2.0.0 which is incompatible.\n",
            "numba 0.58.1 requires numpy<1.27,>=1.22, but you have numpy 2.0.0 which is incompatible.\n",
            "rmm-cu12 24.4.0 requires numpy<2.0a0,>=1.23, but you have numpy 2.0.0 which is incompatible.\n",
            "scipy 1.11.4 requires numpy<1.28.0,>=1.21.6, but you have numpy 2.0.0 which is incompatible.\n",
            "tensorflow 2.15.0 requires numpy<2.0.0,>=1.23.5, but you have numpy 2.0.0 which is incompatible.\u001b[0m\u001b[31m\n",
            "\u001b[0mSuccessfully installed numpy-2.0.0\n",
            "Requirement already satisfied: librosa in /usr/local/lib/python3.10/dist-packages (0.10.2.post1)\n",
            "Requirement already satisfied: audioread>=2.1.9 in /usr/local/lib/python3.10/dist-packages (from librosa) (3.0.1)\n",
            "Requirement already satisfied: numpy!=1.22.0,!=1.22.1,!=1.22.2,>=1.20.3 in /usr/local/lib/python3.10/dist-packages (from librosa) (2.0.0)\n",
            "Requirement already satisfied: scipy>=1.2.0 in /usr/local/lib/python3.10/dist-packages (from librosa) (1.11.4)\n",
            "Requirement already satisfied: scikit-learn>=0.20.0 in /usr/local/lib/python3.10/dist-packages (from librosa) (1.2.2)\n",
            "Requirement already satisfied: joblib>=0.14 in /usr/local/lib/python3.10/dist-packages (from librosa) (1.4.2)\n",
            "Requirement already satisfied: decorator>=4.3.0 in /usr/local/lib/python3.10/dist-packages (from librosa) (4.4.2)\n",
            "Requirement already satisfied: numba>=0.51.0 in /usr/local/lib/python3.10/dist-packages (from librosa) (0.58.1)\n",
            "Requirement already satisfied: soundfile>=0.12.1 in /usr/local/lib/python3.10/dist-packages (from librosa) (0.12.1)\n",
            "Requirement already satisfied: pooch>=1.1 in /usr/local/lib/python3.10/dist-packages (from librosa) (1.8.2)\n",
            "Requirement already satisfied: soxr>=0.3.2 in /usr/local/lib/python3.10/dist-packages (from librosa) (0.3.7)\n",
            "Requirement already satisfied: typing-extensions>=4.1.1 in /usr/local/lib/python3.10/dist-packages (from librosa) (4.12.2)\n",
            "Requirement already satisfied: lazy-loader>=0.1 in /usr/local/lib/python3.10/dist-packages (from librosa) (0.4)\n",
            "Requirement already satisfied: msgpack>=1.0 in /usr/local/lib/python3.10/dist-packages (from librosa) (1.0.8)\n",
            "Requirement already satisfied: packaging in /usr/local/lib/python3.10/dist-packages (from lazy-loader>=0.1->librosa) (24.1)\n",
            "Requirement already satisfied: llvmlite<0.42,>=0.41.0dev0 in /usr/local/lib/python3.10/dist-packages (from numba>=0.51.0->librosa) (0.41.1)\n",
            "Collecting numpy!=1.22.0,!=1.22.1,!=1.22.2,>=1.20.3 (from librosa)\n",
            "  Downloading numpy-1.26.4-cp310-cp310-manylinux_2_17_x86_64.manylinux2014_x86_64.whl (18.2 MB)\n",
            "\u001b[2K     \u001b[90m━━━━━━━━━━━━━━━━━━━━━━━━━━━━━━━━━━━━━━━━\u001b[0m \u001b[32m18.2/18.2 MB\u001b[0m \u001b[31m27.8 MB/s\u001b[0m eta \u001b[36m0:00:00\u001b[0m\n",
            "\u001b[?25hRequirement already satisfied: platformdirs>=2.5.0 in /usr/local/lib/python3.10/dist-packages (from pooch>=1.1->librosa) (4.2.2)\n",
            "Requirement already satisfied: requests>=2.19.0 in /usr/local/lib/python3.10/dist-packages (from pooch>=1.1->librosa) (2.31.0)\n",
            "Requirement already satisfied: threadpoolctl>=2.0.0 in /usr/local/lib/python3.10/dist-packages (from scikit-learn>=0.20.0->librosa) (3.5.0)\n",
            "Requirement already satisfied: cffi>=1.0 in /usr/local/lib/python3.10/dist-packages (from soundfile>=0.12.1->librosa) (1.16.0)\n",
            "Requirement already satisfied: pycparser in /usr/local/lib/python3.10/dist-packages (from cffi>=1.0->soundfile>=0.12.1->librosa) (2.22)\n",
            "Requirement already satisfied: charset-normalizer<4,>=2 in /usr/local/lib/python3.10/dist-packages (from requests>=2.19.0->pooch>=1.1->librosa) (3.3.2)\n",
            "Requirement already satisfied: idna<4,>=2.5 in /usr/local/lib/python3.10/dist-packages (from requests>=2.19.0->pooch>=1.1->librosa) (3.7)\n",
            "Requirement already satisfied: urllib3<3,>=1.21.1 in /usr/local/lib/python3.10/dist-packages (from requests>=2.19.0->pooch>=1.1->librosa) (2.0.7)\n",
            "Requirement already satisfied: certifi>=2017.4.17 in /usr/local/lib/python3.10/dist-packages (from requests>=2.19.0->pooch>=1.1->librosa) (2024.6.2)\n",
            "Installing collected packages: numpy\n",
            "  Attempting uninstall: numpy\n",
            "    Found existing installation: numpy 2.0.0\n",
            "    Uninstalling numpy-2.0.0:\n",
            "      Successfully uninstalled numpy-2.0.0\n",
            "Successfully installed numpy-1.26.4\n",
            "Requirement already satisfied: tensorflow in /usr/local/lib/python3.10/dist-packages (2.15.0)\n",
            "Requirement already satisfied: absl-py>=1.0.0 in /usr/local/lib/python3.10/dist-packages (from tensorflow) (1.4.0)\n",
            "Requirement already satisfied: astunparse>=1.6.0 in /usr/local/lib/python3.10/dist-packages (from tensorflow) (1.6.3)\n",
            "Requirement already satisfied: flatbuffers>=23.5.26 in /usr/local/lib/python3.10/dist-packages (from tensorflow) (24.3.25)\n",
            "Requirement already satisfied: gast!=0.5.0,!=0.5.1,!=0.5.2,>=0.2.1 in /usr/local/lib/python3.10/dist-packages (from tensorflow) (0.5.4)\n",
            "Requirement already satisfied: google-pasta>=0.1.1 in /usr/local/lib/python3.10/dist-packages (from tensorflow) (0.2.0)\n",
            "Requirement already satisfied: h5py>=2.9.0 in /usr/local/lib/python3.10/dist-packages (from tensorflow) (3.9.0)\n",
            "Requirement already satisfied: libclang>=13.0.0 in /usr/local/lib/python3.10/dist-packages (from tensorflow) (18.1.1)\n",
            "Requirement already satisfied: ml-dtypes~=0.2.0 in /usr/local/lib/python3.10/dist-packages (from tensorflow) (0.2.0)\n",
            "Requirement already satisfied: numpy<2.0.0,>=1.23.5 in /usr/local/lib/python3.10/dist-packages (from tensorflow) (1.26.4)\n",
            "Requirement already satisfied: opt-einsum>=2.3.2 in /usr/local/lib/python3.10/dist-packages (from tensorflow) (3.3.0)\n",
            "Requirement already satisfied: packaging in /usr/local/lib/python3.10/dist-packages (from tensorflow) (24.1)\n",
            "Requirement already satisfied: protobuf!=4.21.0,!=4.21.1,!=4.21.2,!=4.21.3,!=4.21.4,!=4.21.5,<5.0.0dev,>=3.20.3 in /usr/local/lib/python3.10/dist-packages (from tensorflow) (3.20.3)\n",
            "Requirement already satisfied: setuptools in /usr/local/lib/python3.10/dist-packages (from tensorflow) (67.7.2)\n",
            "Requirement already satisfied: six>=1.12.0 in /usr/local/lib/python3.10/dist-packages (from tensorflow) (1.16.0)\n",
            "Requirement already satisfied: termcolor>=1.1.0 in /usr/local/lib/python3.10/dist-packages (from tensorflow) (2.4.0)\n",
            "Requirement already satisfied: typing-extensions>=3.6.6 in /usr/local/lib/python3.10/dist-packages (from tensorflow) (4.12.2)\n",
            "Requirement already satisfied: wrapt<1.15,>=1.11.0 in /usr/local/lib/python3.10/dist-packages (from tensorflow) (1.14.1)\n",
            "Requirement already satisfied: tensorflow-io-gcs-filesystem>=0.23.1 in /usr/local/lib/python3.10/dist-packages (from tensorflow) (0.37.0)\n",
            "Requirement already satisfied: grpcio<2.0,>=1.24.3 in /usr/local/lib/python3.10/dist-packages (from tensorflow) (1.64.1)\n",
            "Requirement already satisfied: tensorboard<2.16,>=2.15 in /usr/local/lib/python3.10/dist-packages (from tensorflow) (2.15.2)\n",
            "Requirement already satisfied: tensorflow-estimator<2.16,>=2.15.0 in /usr/local/lib/python3.10/dist-packages (from tensorflow) (2.15.0)\n",
            "Requirement already satisfied: keras<2.16,>=2.15.0 in /usr/local/lib/python3.10/dist-packages (from tensorflow) (2.15.0)\n",
            "Requirement already satisfied: wheel<1.0,>=0.23.0 in /usr/local/lib/python3.10/dist-packages (from astunparse>=1.6.0->tensorflow) (0.43.0)\n",
            "Requirement already satisfied: google-auth<3,>=1.6.3 in /usr/local/lib/python3.10/dist-packages (from tensorboard<2.16,>=2.15->tensorflow) (2.27.0)\n",
            "Requirement already satisfied: google-auth-oauthlib<2,>=0.5 in /usr/local/lib/python3.10/dist-packages (from tensorboard<2.16,>=2.15->tensorflow) (1.2.0)\n",
            "Requirement already satisfied: markdown>=2.6.8 in /usr/local/lib/python3.10/dist-packages (from tensorboard<2.16,>=2.15->tensorflow) (3.6)\n",
            "Requirement already satisfied: requests<3,>=2.21.0 in /usr/local/lib/python3.10/dist-packages (from tensorboard<2.16,>=2.15->tensorflow) (2.31.0)\n",
            "Requirement already satisfied: tensorboard-data-server<0.8.0,>=0.7.0 in /usr/local/lib/python3.10/dist-packages (from tensorboard<2.16,>=2.15->tensorflow) (0.7.2)\n",
            "Requirement already satisfied: werkzeug>=1.0.1 in /usr/local/lib/python3.10/dist-packages (from tensorboard<2.16,>=2.15->tensorflow) (3.0.3)\n",
            "Requirement already satisfied: cachetools<6.0,>=2.0.0 in /usr/local/lib/python3.10/dist-packages (from google-auth<3,>=1.6.3->tensorboard<2.16,>=2.15->tensorflow) (5.3.3)\n",
            "Requirement already satisfied: pyasn1-modules>=0.2.1 in /usr/local/lib/python3.10/dist-packages (from google-auth<3,>=1.6.3->tensorboard<2.16,>=2.15->tensorflow) (0.4.0)\n",
            "Requirement already satisfied: rsa<5,>=3.1.4 in /usr/local/lib/python3.10/dist-packages (from google-auth<3,>=1.6.3->tensorboard<2.16,>=2.15->tensorflow) (4.9)\n",
            "Requirement already satisfied: requests-oauthlib>=0.7.0 in /usr/local/lib/python3.10/dist-packages (from google-auth-oauthlib<2,>=0.5->tensorboard<2.16,>=2.15->tensorflow) (1.3.1)\n",
            "Requirement already satisfied: charset-normalizer<4,>=2 in /usr/local/lib/python3.10/dist-packages (from requests<3,>=2.21.0->tensorboard<2.16,>=2.15->tensorflow) (3.3.2)\n",
            "Requirement already satisfied: idna<4,>=2.5 in /usr/local/lib/python3.10/dist-packages (from requests<3,>=2.21.0->tensorboard<2.16,>=2.15->tensorflow) (3.7)\n",
            "Requirement already satisfied: urllib3<3,>=1.21.1 in /usr/local/lib/python3.10/dist-packages (from requests<3,>=2.21.0->tensorboard<2.16,>=2.15->tensorflow) (2.0.7)\n",
            "Requirement already satisfied: certifi>=2017.4.17 in /usr/local/lib/python3.10/dist-packages (from requests<3,>=2.21.0->tensorboard<2.16,>=2.15->tensorflow) (2024.6.2)\n",
            "Requirement already satisfied: MarkupSafe>=2.1.1 in /usr/local/lib/python3.10/dist-packages (from werkzeug>=1.0.1->tensorboard<2.16,>=2.15->tensorflow) (2.1.5)\n",
            "Requirement already satisfied: pyasn1<0.7.0,>=0.4.6 in /usr/local/lib/python3.10/dist-packages (from pyasn1-modules>=0.2.1->google-auth<3,>=1.6.3->tensorboard<2.16,>=2.15->tensorflow) (0.6.0)\n",
            "Requirement already satisfied: oauthlib>=3.0.0 in /usr/local/lib/python3.10/dist-packages (from requests-oauthlib>=0.7.0->google-auth-oauthlib<2,>=0.5->tensorboard<2.16,>=2.15->tensorflow) (3.2.2)\n"
          ]
        }
      ]
    },
    {
      "cell_type": "code",
      "source": [
        "import os\n",
        "import pandas as pd\n",
        "import numpy as np\n",
        "import librosa\n",
        "from sklearn.model_selection import train_test_split\n",
        "from sklearn.preprocessing import LabelEncoder\n",
        "from sklearn.svm import SVC\n",
        "from sklearn.metrics import classification_report, accuracy_score\n",
        "import cv2\n",
        "import matplotlib.pyplot as plt\n",
        "import tensorflow as tf\n",
        "import keras\n",
        "from keras import layers\n",
        "from PIL import Image\n",
        "from keras.preprocessing import image\n",
        "from tensorflow.keras.preprocessing.image import load_img, img_to_array"
      ],
      "metadata": {
        "id": "C6PkgRLMX3CN"
      },
      "execution_count": 1,
      "outputs": []
    },
    {
      "cell_type": "code",
      "source": [
        "from google.colab import drive\n",
        "drive.mount('/content/drive')"
      ],
      "metadata": {
        "colab": {
          "base_uri": "https://localhost:8080/"
        },
        "id": "Emw_HCXZU8Gi",
        "outputId": "32ab21b1-bfb3-4a85-bbc7-2baff2f1551b"
      },
      "execution_count": 2,
      "outputs": [
        {
          "output_type": "stream",
          "name": "stdout",
          "text": [
            "Mounted at /content/drive\n"
          ]
        }
      ]
    },
    {
      "cell_type": "code",
      "source": [
        "\n",
        "!unzip -uq \"/content/drive/MyDrive/SR/task4.zip\" -d \"/content/files/\""
      ],
      "metadata": {
        "id": "dimlsXxaYELO"
      },
      "execution_count": 3,
      "outputs": []
    },
    {
      "cell_type": "code",
      "source": [
        "def encoder_block(inputs, num_filters):\n",
        "\n",
        "    # Convolution with 3x3 filter followed by ReLU activation\n",
        "    x = layers.Conv2D(num_filters,\n",
        "                               3,\n",
        "                               padding = 'valid')(inputs)\n",
        "    x = layers.Activation('relu')(x)\n",
        "\n",
        "    # Convolution with 3x3 filter followed by ReLU activation\n",
        "    x = layers.Conv2D(num_filters,\n",
        "                               3,\n",
        "                               padding = 'valid')(x)\n",
        "    x = layers.Activation('relu')(x)\n",
        "\n",
        "    # Max Pooling with 2x2 filter\n",
        "    x = layers.MaxPool2D(pool_size = (2, 2),\n",
        "                                  strides = 2)(x)\n",
        "\n",
        "    return x"
      ],
      "metadata": {
        "id": "-feynSxRXeWj"
      },
      "execution_count": 4,
      "outputs": []
    },
    {
      "cell_type": "code",
      "source": [
        "def decoder_block(inputs, skip_features, num_filters):\n",
        "\n",
        "    # Upsampling with 2x2 filter\n",
        "    x = layers.Conv2DTranspose(num_filters,\n",
        "                                        (2, 2),\n",
        "                                        strides = 2,\n",
        "                                        padding = 'valid')(inputs)\n",
        "\n",
        "    # Copy and crop the skip features\n",
        "    # to match the shape of the upsampled input\n",
        "    skip_features = tf.image.resize(skip_features,\n",
        "                                    size = (x.shape[1],\n",
        "                                            x.shape[2]))\n",
        "    x = layers.Concatenate()([x, skip_features])\n",
        "\n",
        "    # Convolution with 3x3 filter followed by ReLU activation\n",
        "    x = layers.Conv2D(num_filters,\n",
        "                               3,\n",
        "                               padding = 'valid')(x)\n",
        "    x = layers.Activation('relu')(x)\n",
        "\n",
        "    # Convolution with 3x3 filter followed by ReLU activation\n",
        "    x = layers.Conv2D(num_filters, 3, padding = 'valid')(x)\n",
        "    x = layers.Activation('relu')(x)\n",
        "\n",
        "    return x"
      ],
      "metadata": {
        "id": "mPjmD4H4YPP_"
      },
      "execution_count": 5,
      "outputs": []
    },
    {
      "cell_type": "code",
      "source": [
        "\n",
        "# Unet code\n",
        "\n",
        "\n",
        "def unet_model(input_shape = (572,572,1), num_classes = 1):\n",
        "    inputs = layers.Input(input_shape)\n",
        "\n",
        "    # Contracting Path\n",
        "    s1 = encoder_block(inputs, 64)\n",
        "    s2 = encoder_block(s1, 128)\n",
        "    s3 = encoder_block(s1, 256)\n",
        "    s4 = encoder_block(s3, 512)\n",
        "\n",
        "    # Bottleneck\n",
        "    b1 = layers.Conv2D(1024, 3, padding = 'valid')(s4)\n",
        "    b1 = layers.Activation('relu')(b1)\n",
        "    b1 = layers.Conv2D(1024, 3, padding = 'valid')(b1)\n",
        "    b1 = layers.Activation('relu')(b1)\n",
        "\n",
        "    # Expansive Path\n",
        "    s5 = decoder_block(b1, s4, 512)\n",
        "    s6 = decoder_block(s5, s3, 256)\n",
        "    s7 = decoder_block(s6, s2, 128)\n",
        "    s8 = decoder_block(s6, s1, 64)\n",
        "\n",
        "    # Output\n",
        "    outputs = layers.Conv2D(num_classes,\n",
        "                                     1,\n",
        "                                     padding = 'valid',\n",
        "                                     activation = 'sigmoid')(s8)\n",
        "\n",
        "    model = keras.models.Model(inputs = inputs,\n",
        "                                  outputs = outputs,\n",
        "                                  name = 'U-Net')\n",
        "    return model\n",
        "\n",
        "if __name__ == '__main__':\n",
        "    model = unet_model(input_shape=(572, 572, 1), num_classes=2)\n",
        "    model.summary()"
      ],
      "metadata": {
        "colab": {
          "base_uri": "https://localhost:8080/"
        },
        "id": "Wt5h4h52YXhv",
        "outputId": "07b4e194-5e69-4df7-da6a-27347a953bd3"
      },
      "execution_count": 25,
      "outputs": [
        {
          "output_type": "stream",
          "name": "stdout",
          "text": [
            "Model: \"U-Net\"\n",
            "__________________________________________________________________________________________________\n",
            " Layer (type)                Output Shape                 Param #   Connected to                  \n",
            "==================================================================================================\n",
            " input_5 (InputLayer)        [(None, 572, 572, 1)]        0         []                            \n",
            "                                                                                                  \n",
            " conv2d_76 (Conv2D)          (None, 570, 570, 64)         640       ['input_5[0][0]']             \n",
            "                                                                                                  \n",
            " activation_72 (Activation)  (None, 570, 570, 64)         0         ['conv2d_76[0][0]']           \n",
            "                                                                                                  \n",
            " conv2d_77 (Conv2D)          (None, 568, 568, 64)         36928     ['activation_72[0][0]']       \n",
            "                                                                                                  \n",
            " activation_73 (Activation)  (None, 568, 568, 64)         0         ['conv2d_77[0][0]']           \n",
            "                                                                                                  \n",
            " max_pooling2d_16 (MaxPooli  (None, 284, 284, 64)         0         ['activation_73[0][0]']       \n",
            " ng2D)                                                                                            \n",
            "                                                                                                  \n",
            " conv2d_80 (Conv2D)          (None, 282, 282, 256)        147712    ['max_pooling2d_16[0][0]']    \n",
            "                                                                                                  \n",
            " activation_76 (Activation)  (None, 282, 282, 256)        0         ['conv2d_80[0][0]']           \n",
            "                                                                                                  \n",
            " conv2d_81 (Conv2D)          (None, 280, 280, 256)        590080    ['activation_76[0][0]']       \n",
            "                                                                                                  \n",
            " activation_77 (Activation)  (None, 280, 280, 256)        0         ['conv2d_81[0][0]']           \n",
            "                                                                                                  \n",
            " max_pooling2d_18 (MaxPooli  (None, 140, 140, 256)        0         ['activation_77[0][0]']       \n",
            " ng2D)                                                                                            \n",
            "                                                                                                  \n",
            " conv2d_82 (Conv2D)          (None, 138, 138, 512)        1180160   ['max_pooling2d_18[0][0]']    \n",
            "                                                                                                  \n",
            " activation_78 (Activation)  (None, 138, 138, 512)        0         ['conv2d_82[0][0]']           \n",
            "                                                                                                  \n",
            " conv2d_83 (Conv2D)          (None, 136, 136, 512)        2359808   ['activation_78[0][0]']       \n",
            "                                                                                                  \n",
            " activation_79 (Activation)  (None, 136, 136, 512)        0         ['conv2d_83[0][0]']           \n",
            "                                                                                                  \n",
            " max_pooling2d_19 (MaxPooli  (None, 68, 68, 512)          0         ['activation_79[0][0]']       \n",
            " ng2D)                                                                                            \n",
            "                                                                                                  \n",
            " conv2d_84 (Conv2D)          (None, 66, 66, 1024)         4719616   ['max_pooling2d_19[0][0]']    \n",
            "                                                                                                  \n",
            " activation_80 (Activation)  (None, 66, 66, 1024)         0         ['conv2d_84[0][0]']           \n",
            "                                                                                                  \n",
            " conv2d_85 (Conv2D)          (None, 64, 64, 1024)         9438208   ['activation_80[0][0]']       \n",
            "                                                                                                  \n",
            " activation_81 (Activation)  (None, 64, 64, 1024)         0         ['conv2d_85[0][0]']           \n",
            "                                                                                                  \n",
            " conv2d_transpose_16 (Conv2  (None, 128, 128, 512)        2097664   ['activation_81[0][0]']       \n",
            " DTranspose)                                                                                      \n",
            "                                                                                                  \n",
            " tf.image.resize_16 (TFOpLa  (None, 128, 128, 512)        0         ['max_pooling2d_19[0][0]']    \n",
            " mbda)                                                                                            \n",
            "                                                                                                  \n",
            " concatenate_16 (Concatenat  (None, 128, 128, 1024)       0         ['conv2d_transpose_16[0][0]', \n",
            " e)                                                                  'tf.image.resize_16[0][0]']  \n",
            "                                                                                                  \n",
            " conv2d_86 (Conv2D)          (None, 126, 126, 512)        4719104   ['concatenate_16[0][0]']      \n",
            "                                                                                                  \n",
            " activation_82 (Activation)  (None, 126, 126, 512)        0         ['conv2d_86[0][0]']           \n",
            "                                                                                                  \n",
            " conv2d_87 (Conv2D)          (None, 124, 124, 512)        2359808   ['activation_82[0][0]']       \n",
            "                                                                                                  \n",
            " activation_83 (Activation)  (None, 124, 124, 512)        0         ['conv2d_87[0][0]']           \n",
            "                                                                                                  \n",
            " conv2d_transpose_17 (Conv2  (None, 248, 248, 256)        524544    ['activation_83[0][0]']       \n",
            " DTranspose)                                                                                      \n",
            "                                                                                                  \n",
            " tf.image.resize_17 (TFOpLa  (None, 248, 248, 256)        0         ['max_pooling2d_18[0][0]']    \n",
            " mbda)                                                                                            \n",
            "                                                                                                  \n",
            " concatenate_17 (Concatenat  (None, 248, 248, 512)        0         ['conv2d_transpose_17[0][0]', \n",
            " e)                                                                  'tf.image.resize_17[0][0]']  \n",
            "                                                                                                  \n",
            " conv2d_88 (Conv2D)          (None, 246, 246, 256)        1179904   ['concatenate_17[0][0]']      \n",
            "                                                                                                  \n",
            " activation_84 (Activation)  (None, 246, 246, 256)        0         ['conv2d_88[0][0]']           \n",
            "                                                                                                  \n",
            " conv2d_89 (Conv2D)          (None, 244, 244, 256)        590080    ['activation_84[0][0]']       \n",
            "                                                                                                  \n",
            " activation_85 (Activation)  (None, 244, 244, 256)        0         ['conv2d_89[0][0]']           \n",
            "                                                                                                  \n",
            " conv2d_transpose_19 (Conv2  (None, 488, 488, 64)         65600     ['activation_85[0][0]']       \n",
            " DTranspose)                                                                                      \n",
            "                                                                                                  \n",
            " tf.image.resize_19 (TFOpLa  (None, 488, 488, 64)         0         ['max_pooling2d_16[0][0]']    \n",
            " mbda)                                                                                            \n",
            "                                                                                                  \n",
            " concatenate_19 (Concatenat  (None, 488, 488, 128)        0         ['conv2d_transpose_19[0][0]', \n",
            " e)                                                                  'tf.image.resize_19[0][0]']  \n",
            "                                                                                                  \n",
            " conv2d_92 (Conv2D)          (None, 486, 486, 64)         73792     ['concatenate_19[0][0]']      \n",
            "                                                                                                  \n",
            " activation_88 (Activation)  (None, 486, 486, 64)         0         ['conv2d_92[0][0]']           \n",
            "                                                                                                  \n",
            " conv2d_93 (Conv2D)          (None, 484, 484, 64)         36928     ['activation_88[0][0]']       \n",
            "                                                                                                  \n",
            " activation_89 (Activation)  (None, 484, 484, 64)         0         ['conv2d_93[0][0]']           \n",
            "                                                                                                  \n",
            " conv2d_94 (Conv2D)          (None, 484, 484, 2)          130       ['activation_89[0][0]']       \n",
            "                                                                                                  \n",
            "==================================================================================================\n",
            "Total params: 30120706 (114.90 MB)\n",
            "Trainable params: 30120706 (114.90 MB)\n",
            "Non-trainable params: 0 (0.00 Byte)\n",
            "__________________________________________________________________________________________________\n"
          ]
        }
      ]
    },
    {
      "cell_type": "code",
      "source": [
        "# dim 512*512*1"
      ],
      "metadata": {
        "id": "a3SaXgOwXoOq"
      },
      "execution_count": null,
      "outputs": []
    },
    {
      "cell_type": "code",
      "source": [
        "root_dir='/content/files/membrane/'\n",
        "X_train_dir=root_dir+'train/image/'\n",
        "Y_train_dir=root_dir+'train/label/'\n",
        "test_dir=root_dir+'test/'\n",
        "train_dir=root_dir+'train/'"
      ],
      "metadata": {
        "id": "WLqIRVFXX9Da"
      },
      "execution_count": 7,
      "outputs": []
    },
    {
      "cell_type": "code",
      "source": [
        "X_train = []\n",
        "Y_train = []\n",
        "X_test = []\n",
        "Y_test = []\n",
        "\n",
        "for i in range(30):\n",
        "        train_img = Image.open((train_dir+\"image/{index}.png\").format(index=i))\n",
        "        train_img = train_img.resize((484, 484))\n",
        "        img_array = image.img_to_array(train_img)\n",
        "        # img_array = np.expand_dims(img_array[:,:,:1], axis=0)\n",
        "        img_array = img_array / 255.\n",
        "        train_mask = Image.open((train_dir+\"label/{index}.png\").format(index=i))\n",
        "        train_mask = train_mask.resize((484, 484))\n",
        "        mask_array = image.img_to_array(train_mask)\n",
        "        # mask_array = np.expand_dims(mask_array[:,:,:1], axis=0)\n",
        "        mask_array = mask_array / 255.\n",
        "        X_train.append(img_array)\n",
        "        Y_train.append(mask_array)\n",
        "        test_img=Image.open((test_dir+\"{index}.png\").format(index=i))\n",
        "        test_img = test_img.resize((572, 572))\n",
        "        img_array = image.img_to_array(test_img)\n",
        "        # img_array = np.expand_dims(img_array[:,:,:1], axis=0)\n",
        "        img_array = img_array / 255.\n",
        "        test_mask=Image.open((test_dir+\"{index}_predict.png\").format(index=i))\n",
        "        test_mask = test_mask.resize((484, 484))\n",
        "        mask_array = image.img_to_array(test_mask)\n",
        "        # mask_array = np.expand_dims(mask_array[:,:,:1], axis=0)\n",
        "        mask_array = mask_array / 255.\n",
        "        X_test.append(img_array)\n",
        "        Y_test.append(mask_array)\n",
        "\n",
        "\n",
        "X_train = np.asarray(X_train)\n",
        "Y_train = np.asarray(Y_train)\n",
        "print(X_train.shape)\n",
        "print(Y_train.shape)"
      ],
      "metadata": {
        "id": "0ghs3hcDaSR-",
        "colab": {
          "base_uri": "https://localhost:8080/"
        },
        "outputId": "af32874b-1525-44b2-fe67-693c879de650"
      },
      "execution_count": 27,
      "outputs": [
        {
          "output_type": "stream",
          "name": "stdout",
          "text": [
            "(30, 484, 484, 1)\n",
            "(30, 484, 484, 1)\n"
          ]
        }
      ]
    },
    {
      "cell_type": "code",
      "source": [
        "from skimage.io import imread\n",
        "from skimage.transform import resize"
      ],
      "metadata": {
        "id": "GR2juYIBava_"
      },
      "execution_count": 12,
      "outputs": []
    },
    {
      "cell_type": "code",
      "source": [
        "\n",
        ")"
      ],
      "metadata": {
        "id": "Nc6wjPM_ezrC"
      },
      "execution_count": 19,
      "outputs": []
    },
    {
      "cell_type": "code",
      "source": [],
      "metadata": {
        "id": "tRK5CzaQYyui"
      },
      "execution_count": null,
      "outputs": []
    },
    {
      "cell_type": "code",
      "source": [
        "model.compile(\n",
        "    optimizer=keras.optimizers.Adam(1e-3), loss=\"sparse_categorical_crossentropy\",metrics=['accuracy']\n",
        ")\n",
        "\n",
        "\n",
        "\n",
        "epochs = 2\n",
        "history=model.fit(\n",
        "    X_train,Y_train,\n",
        "    epochs=epochs,\n",
        "    batch_size=8,\n",
        "    validation_split=0.1\n",
        ")"
      ],
      "metadata": {
        "colab": {
          "base_uri": "https://localhost:8080/"
        },
        "id": "BPtl5_ykcDad",
        "outputId": "fd81b6de-1cdf-49aa-ee2e-120acd413e28"
      },
      "execution_count": null,
      "outputs": [
        {
          "output_type": "stream",
          "name": "stdout",
          "text": [
            "Epoch 1/2\n",
            "1/1 [==============================] - 177s 177s/step - loss: 0.6171 - accuracy: 0.7596 - val_loss: 0.6108 - val_accuracy: 0.7301\n",
            "Epoch 2/2\n",
            "1/1 [==============================] - 168s 168s/step - loss: 0.5944 - accuracy: 0.7596 - val_loss: 0.5656 - val_accuracy: 0.7301\n"
          ]
        }
      ]
    },
    {
      "cell_type": "code",
      "source": [
        "model = unet_model(input_shape=(572,572, 1), num_classes=2)\n",
        "print(X_test[0].shape)\n",
        "predictions = model.predict(X_test[0])\n",
        "\n",
        "# Convert predictions to a numpy array and resize to original image size\n",
        "predictions = np.squeeze(predictions, axis=0)\n",
        "predictions = np.argmax(predictions, axis=-1)\n",
        "predictions = Image.fromarray(np.uint8(predictions*255))\n",
        "predictions = predictions.resize((572,572))\n",
        "\n",
        "# Save the predicted image\n",
        "predictions.save('predicted_image.jpg')\n",
        "predictions"
      ],
      "metadata": {
        "id": "cbT6BgMqfUjp",
        "colab": {
          "base_uri": "https://localhost:8080/",
          "height": 720
        },
        "outputId": "1c010554-2db7-40e3-a5e1-4cc15adbcc18"
      },
      "execution_count": 28,
      "outputs": [
        {
          "output_type": "stream",
          "name": "stdout",
          "text": [
            "(572, 572, 1)\n"
          ]
        },
        {
          "output_type": "error",
          "ename": "ValueError",
          "evalue": "in user code:\n\n    File \"/usr/local/lib/python3.10/dist-packages/keras/src/engine/training.py\", line 2440, in predict_function  *\n        return step_function(self, iterator)\n    File \"/usr/local/lib/python3.10/dist-packages/keras/src/engine/training.py\", line 2425, in step_function  **\n        outputs = model.distribute_strategy.run(run_step, args=(data,))\n    File \"/usr/local/lib/python3.10/dist-packages/keras/src/engine/training.py\", line 2413, in run_step  **\n        outputs = model.predict_step(data)\n    File \"/usr/local/lib/python3.10/dist-packages/keras/src/engine/training.py\", line 2381, in predict_step\n        return self(x, training=False)\n    File \"/usr/local/lib/python3.10/dist-packages/keras/src/utils/traceback_utils.py\", line 70, in error_handler\n        raise e.with_traceback(filtered_tb) from None\n\n    ValueError: Exception encountered when calling layer 'conv2d_114' (type Conv2D).\n    \n    Negative dimension size caused by subtracting 3 from 1 for '{{node U-Net/conv2d_114/Conv2D}} = Conv2D[T=DT_FLOAT, data_format=\"NHWC\", dilations=[1, 1, 1, 1], explicit_paddings=[], padding=\"VALID\", strides=[1, 1, 1, 1], use_cudnn_on_gpu=true](U-Net/ExpandDims, U-Net/conv2d_114/Conv2D/ReadVariableOp)' with input shapes: [?,572,1,1], [3,3,1,64].\n    \n    Call arguments received by layer 'conv2d_114' (type Conv2D):\n      • inputs=tf.Tensor(shape=(None, 572, 1, 1), dtype=float32)\n",
          "traceback": [
            "\u001b[0;31m---------------------------------------------------------------------------\u001b[0m",
            "\u001b[0;31mValueError\u001b[0m                                Traceback (most recent call last)",
            "\u001b[0;32m<ipython-input-28-6a176f5a78ac>\u001b[0m in \u001b[0;36m<cell line: 3>\u001b[0;34m()\u001b[0m\n\u001b[1;32m      1\u001b[0m \u001b[0mmodel\u001b[0m \u001b[0;34m=\u001b[0m \u001b[0munet_model\u001b[0m\u001b[0;34m(\u001b[0m\u001b[0minput_shape\u001b[0m\u001b[0;34m=\u001b[0m\u001b[0;34m(\u001b[0m\u001b[0;36m572\u001b[0m\u001b[0;34m,\u001b[0m\u001b[0;36m572\u001b[0m\u001b[0;34m,\u001b[0m \u001b[0;36m1\u001b[0m\u001b[0;34m)\u001b[0m\u001b[0;34m,\u001b[0m \u001b[0mnum_classes\u001b[0m\u001b[0;34m=\u001b[0m\u001b[0;36m2\u001b[0m\u001b[0;34m)\u001b[0m\u001b[0;34m\u001b[0m\u001b[0;34m\u001b[0m\u001b[0m\n\u001b[1;32m      2\u001b[0m \u001b[0mprint\u001b[0m\u001b[0;34m(\u001b[0m\u001b[0mX_test\u001b[0m\u001b[0;34m[\u001b[0m\u001b[0;36m0\u001b[0m\u001b[0;34m]\u001b[0m\u001b[0;34m.\u001b[0m\u001b[0mshape\u001b[0m\u001b[0;34m)\u001b[0m\u001b[0;34m\u001b[0m\u001b[0;34m\u001b[0m\u001b[0m\n\u001b[0;32m----> 3\u001b[0;31m \u001b[0mpredictions\u001b[0m \u001b[0;34m=\u001b[0m \u001b[0mmodel\u001b[0m\u001b[0;34m.\u001b[0m\u001b[0mpredict\u001b[0m\u001b[0;34m(\u001b[0m\u001b[0mX_test\u001b[0m\u001b[0;34m[\u001b[0m\u001b[0;36m0\u001b[0m\u001b[0;34m]\u001b[0m\u001b[0;34m)\u001b[0m\u001b[0;34m\u001b[0m\u001b[0;34m\u001b[0m\u001b[0m\n\u001b[0m\u001b[1;32m      4\u001b[0m \u001b[0;34m\u001b[0m\u001b[0m\n\u001b[1;32m      5\u001b[0m \u001b[0;31m# Convert predictions to a numpy array and resize to original image size\u001b[0m\u001b[0;34m\u001b[0m\u001b[0;34m\u001b[0m\u001b[0m\n",
            "\u001b[0;32m/usr/local/lib/python3.10/dist-packages/keras/src/utils/traceback_utils.py\u001b[0m in \u001b[0;36merror_handler\u001b[0;34m(*args, **kwargs)\u001b[0m\n\u001b[1;32m     68\u001b[0m             \u001b[0;31m# To get the full stack trace, call:\u001b[0m\u001b[0;34m\u001b[0m\u001b[0;34m\u001b[0m\u001b[0m\n\u001b[1;32m     69\u001b[0m             \u001b[0;31m# `tf.debugging.disable_traceback_filtering()`\u001b[0m\u001b[0;34m\u001b[0m\u001b[0;34m\u001b[0m\u001b[0m\n\u001b[0;32m---> 70\u001b[0;31m             \u001b[0;32mraise\u001b[0m \u001b[0me\u001b[0m\u001b[0;34m.\u001b[0m\u001b[0mwith_traceback\u001b[0m\u001b[0;34m(\u001b[0m\u001b[0mfiltered_tb\u001b[0m\u001b[0;34m)\u001b[0m \u001b[0;32mfrom\u001b[0m \u001b[0;32mNone\u001b[0m\u001b[0;34m\u001b[0m\u001b[0;34m\u001b[0m\u001b[0m\n\u001b[0m\u001b[1;32m     71\u001b[0m         \u001b[0;32mfinally\u001b[0m\u001b[0;34m:\u001b[0m\u001b[0;34m\u001b[0m\u001b[0;34m\u001b[0m\u001b[0m\n\u001b[1;32m     72\u001b[0m             \u001b[0;32mdel\u001b[0m \u001b[0mfiltered_tb\u001b[0m\u001b[0;34m\u001b[0m\u001b[0;34m\u001b[0m\u001b[0m\n",
            "\u001b[0;32m/usr/local/lib/python3.10/dist-packages/keras/src/engine/training.py\u001b[0m in \u001b[0;36mtf__predict_function\u001b[0;34m(iterator)\u001b[0m\n\u001b[1;32m     13\u001b[0m                 \u001b[0;32mtry\u001b[0m\u001b[0;34m:\u001b[0m\u001b[0;34m\u001b[0m\u001b[0;34m\u001b[0m\u001b[0m\n\u001b[1;32m     14\u001b[0m                     \u001b[0mdo_return\u001b[0m \u001b[0;34m=\u001b[0m \u001b[0;32mTrue\u001b[0m\u001b[0;34m\u001b[0m\u001b[0;34m\u001b[0m\u001b[0m\n\u001b[0;32m---> 15\u001b[0;31m                     \u001b[0mretval_\u001b[0m \u001b[0;34m=\u001b[0m \u001b[0mag__\u001b[0m\u001b[0;34m.\u001b[0m\u001b[0mconverted_call\u001b[0m\u001b[0;34m(\u001b[0m\u001b[0mag__\u001b[0m\u001b[0;34m.\u001b[0m\u001b[0mld\u001b[0m\u001b[0;34m(\u001b[0m\u001b[0mstep_function\u001b[0m\u001b[0;34m)\u001b[0m\u001b[0;34m,\u001b[0m \u001b[0;34m(\u001b[0m\u001b[0mag__\u001b[0m\u001b[0;34m.\u001b[0m\u001b[0mld\u001b[0m\u001b[0;34m(\u001b[0m\u001b[0mself\u001b[0m\u001b[0;34m)\u001b[0m\u001b[0;34m,\u001b[0m \u001b[0mag__\u001b[0m\u001b[0;34m.\u001b[0m\u001b[0mld\u001b[0m\u001b[0;34m(\u001b[0m\u001b[0miterator\u001b[0m\u001b[0;34m)\u001b[0m\u001b[0;34m)\u001b[0m\u001b[0;34m,\u001b[0m \u001b[0;32mNone\u001b[0m\u001b[0;34m,\u001b[0m \u001b[0mfscope\u001b[0m\u001b[0;34m)\u001b[0m\u001b[0;34m\u001b[0m\u001b[0;34m\u001b[0m\u001b[0m\n\u001b[0m\u001b[1;32m     16\u001b[0m                 \u001b[0;32mexcept\u001b[0m\u001b[0;34m:\u001b[0m\u001b[0;34m\u001b[0m\u001b[0;34m\u001b[0m\u001b[0m\n\u001b[1;32m     17\u001b[0m                     \u001b[0mdo_return\u001b[0m \u001b[0;34m=\u001b[0m \u001b[0;32mFalse\u001b[0m\u001b[0;34m\u001b[0m\u001b[0;34m\u001b[0m\u001b[0m\n",
            "\u001b[0;31mValueError\u001b[0m: in user code:\n\n    File \"/usr/local/lib/python3.10/dist-packages/keras/src/engine/training.py\", line 2440, in predict_function  *\n        return step_function(self, iterator)\n    File \"/usr/local/lib/python3.10/dist-packages/keras/src/engine/training.py\", line 2425, in step_function  **\n        outputs = model.distribute_strategy.run(run_step, args=(data,))\n    File \"/usr/local/lib/python3.10/dist-packages/keras/src/engine/training.py\", line 2413, in run_step  **\n        outputs = model.predict_step(data)\n    File \"/usr/local/lib/python3.10/dist-packages/keras/src/engine/training.py\", line 2381, in predict_step\n        return self(x, training=False)\n    File \"/usr/local/lib/python3.10/dist-packages/keras/src/utils/traceback_utils.py\", line 70, in error_handler\n        raise e.with_traceback(filtered_tb) from None\n\n    ValueError: Exception encountered when calling layer 'conv2d_114' (type Conv2D).\n    \n    Negative dimension size caused by subtracting 3 from 1 for '{{node U-Net/conv2d_114/Conv2D}} = Conv2D[T=DT_FLOAT, data_format=\"NHWC\", dilations=[1, 1, 1, 1], explicit_paddings=[], padding=\"VALID\", strides=[1, 1, 1, 1], use_cudnn_on_gpu=true](U-Net/ExpandDims, U-Net/conv2d_114/Conv2D/ReadVariableOp)' with input shapes: [?,572,1,1], [3,3,1,64].\n    \n    Call arguments received by layer 'conv2d_114' (type Conv2D):\n      • inputs=tf.Tensor(shape=(None, 572, 1, 1), dtype=float32)\n"
          ]
        }
      ]
    },
    {
      "cell_type": "code",
      "source": [
        "\n",
        "# Load the image\n",
        "img = Image.open(train_dir+\"image/20.png\")\n",
        "# Preprocess the image\n",
        "img = img.resize((572, 572))\n",
        "img_array = image.img_to_array(img)\n",
        "img_array = np.expand_dims(img_array[:,:,:3], axis=0)\n",
        "img_array = img_array / 255.\n",
        "\n",
        "# Load the model\n",
        "model = unet_model(input_shape=(572, 572, 1), num_classes=2)\n",
        "\n",
        "# Make predictions\n",
        "predictions = model.predict(img_array)\n",
        "\n",
        "# Convert predictions to a numpy array and resize to original image size\n",
        "predictions = np.squeeze(predictions, axis=0)\n",
        "predictions = np.argmax(predictions, axis=-1)\n",
        "predictions = Image.fromarray(np.uint8(predictions*255))\n",
        "predictions = predictions.resize((img.width, img.height))\n",
        "\n",
        "\n",
        "\n",
        "predictions.save('predicted_image.jpg')\n"
      ],
      "metadata": {
        "id": "evlk73DykNNQ",
        "colab": {
          "base_uri": "https://localhost:8080/"
        },
        "outputId": "480cac66-92d7-438e-d87e-28056e8b48c7"
      },
      "execution_count": 35,
      "outputs": [
        {
          "output_type": "stream",
          "name": "stdout",
          "text": [
            "1/1 [==============================] - 0s 197ms/step\n"
          ]
        }
      ]
    }
  ]
}