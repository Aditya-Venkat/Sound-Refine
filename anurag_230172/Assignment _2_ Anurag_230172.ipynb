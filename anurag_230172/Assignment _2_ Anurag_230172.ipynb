{
 "cells": [
  {
   "cell_type": "code",
   "execution_count": 2,
   "id": "699d2a5c-7cf2-407a-a80e-692b3bd1c067",
   "metadata": {},
   "outputs": [],
   "source": [
    "import os\n",
    "import numpy as np\n",
    "import librosa\n",
    "import soundfile as sf\n",
    "from glob import glob\n"
   ]
  },
  {
   "cell_type": "code",
   "execution_count": 3,
   "id": "6b4b8cb2-ba3e-4555-a77f-1eb3db6c3123",
   "metadata": {},
   "outputs": [],
   "source": [
    "\n",
    "clean_speech_dir = r'C:\\Users\\anurag\\Desktop\\first_jupyter\\ravdess_rewritten_8k'\n",
    "noise_dir = r'C:\\Users\\anurag\\Desktop\\first_jupyter\\urbansound_8k'\n",
    "output_dir = r'C:\\Users\\anurag\\Desktop\\first_jupyter\\output folder'\n",
    "\n"
   ]
  },
  {
   "cell_type": "code",
   "execution_count": 4,
   "id": "d60a054d-3f2f-4fa3-8f23-bb86b8ad60cc",
   "metadata": {},
   "outputs": [
    {
     "name": "stdout",
     "output_type": "stream",
     "text": [
      "Found 1440 clean speech files.\n",
      "Found 8732 noise files.\n"
     ]
    }
   ],
   "source": [
    "\n",
    "clean_speech_files = glob(os.path.join(clean_speech_dir, '**/*.wav'), recursive=True)\n",
    "noise_files = glob(os.path.join(noise_dir, '**/*.wav'), recursive=True)\n",
    "\n",
    "print(f'Found {len(clean_speech_files)} clean speech files.')\n",
    "print(f'Found {len(noise_files)} noise files.')\n"
   ]
  },
  {
   "cell_type": "code",
   "execution_count": 5,
   "id": "88756d1e-4cdf-409d-b686-a1198b43bbf3",
   "metadata": {},
   "outputs": [],
   "source": [
    "def mix_audio(clean_signal, noise_signal):\n",
    "    \n",
    "    if len(noise_signal) > len(clean_signal):\n",
    "        noise_signal = noise_signal[:len(clean_signal)]\n",
    "    else:\n",
    "        clean_signal = clean_signal[:len(noise_signal)]\n",
    "    reduced_noise= 0.1*noise_signal\n",
    "    noisy_signal = clean_signal + reduced_noise\n",
    "    return noisy_signal"
   ]
  },
  {
   "cell_type": "code",
   "execution_count": 6,
   "id": "768c7525-9da4-47ea-8c8e-e5c8ec6f41d1",
   "metadata": {},
   "outputs": [],
   "source": [
    "data = {\n",
    "    \"clean_mel_spectrogram\": [],\n",
    "    \"mixed_mel_spectrogram\": []\n",
    "}\n",
    "for i in range(1000):\n",
    "    sr = 22050\n",
    "    n_fft = 2048\n",
    "    hop_length = 512\n",
    "    n_mels = 10\n",
    "\n",
    "    \n",
    "    clean_file = np.random.choice(clean_speech_files)\n",
    "    noise_file = np.random.choice(noise_files)\n",
    "    clean_signal, sr = librosa.load(clean_file, sr=None)\n",
    "    noise_signal, _ = librosa.load(noise_file, sr=None)\n",
    "    noisy_signal = mix_audio(clean_signal, noise_signal)\n",
    "    clean_mel_spectrogram = librosa.feature.melspectrogram(y=clean_signal, sr=sr, n_fft=n_fft, hop_length=hop_length, n_mels=n_mels)\n",
    "    mixed_mel_spectrogram = librosa.feature.melspectrogram(y=noisy_signal, sr=sr, n_fft=n_fft, hop_length=hop_length, n_mels=n_mels)\n",
    "    \n",
    "    \n",
    "    log_clean_mel_spectrogram = librosa.power_to_db(clean_mel_spectrogram)\n",
    "    log_mixed_mel_spectrogram = librosa.power_to_db(mixed_mel_spectrogram)\n",
    "    \n",
    "    data[\"clean_mel_spectrogram\"].append(log_clean_mel_spectrogram.tolist())\n",
    "    data[\"mixed_mel_spectrogram\"].append(log_mixed_mel_spectrogram.tolist())\n",
    "    \n",
    "    output_file = os.path.join(output_dir, f'mixed_sample_{i:04d}.wav')\n",
    "    sf.write(output_file, noisy_signal,sr)\n",
    "   "
   ]
  },
  {
   "cell_type": "code",
   "execution_count": null,
   "id": "e9722317-6e93-4d3f-a9b0-17066ae5ebb3",
   "metadata": {},
   "outputs": [],
   "source": []
  }
 ],
 "metadata": {
  "kernelspec": {
   "display_name": "Python 3 (ipykernel)",
   "language": "python",
   "name": "python3"
  },
  "language_info": {
   "codemirror_mode": {
    "name": "ipython",
    "version": 3
   },
   "file_extension": ".py",
   "mimetype": "text/x-python",
   "name": "python",
   "nbconvert_exporter": "python",
   "pygments_lexer": "ipython3",
   "version": "3.12.3"
  }
 },
 "nbformat": 4,
 "nbformat_minor": 5
}
