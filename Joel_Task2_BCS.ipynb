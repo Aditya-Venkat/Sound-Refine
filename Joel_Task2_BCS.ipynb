{
  "nbformat": 4,
  "nbformat_minor": 0,
  "metadata": {
    "colab": {
      "provenance": []
    },
    "kernelspec": {
      "name": "python3",
      "display_name": "Python 3"
    },
    "language_info": {
      "name": "python"
    }
  },
  "cells": [
    {
      "cell_type": "code",
      "execution_count": null,
      "metadata": {
        "colab": {
          "base_uri": "https://localhost:8080/"
        },
        "id": "S38SUokbCTPv",
        "outputId": "27cea3c8-d2bf-406a-d0b0-531126d08a70"
      },
      "outputs": [
        {
          "output_type": "stream",
          "name": "stdout",
          "text": [
            "Extracted files: ['ravdess_rewritten_8k', '._ravdess_rewritten_8k', 'PaxHeader']\n"
          ]
        }
      ],
      "source": [
        "import zipfile\n",
        "import os\n",
        "import glob\n",
        "\n",
        "zip_file_path = '/content/archive (2).zip'\n",
        "\n",
        "# Specify the directory to extract the contents\n",
        "extract_to_directory = 'noise/'\n",
        "\n",
        "# Open the ZIP file\n",
        "with zipfile.ZipFile(zip_file_path, 'r') as zip_ref:\n",
        "    # Extract all the contents to the specified directory\n",
        "    zip_ref.extractall(extract_to_directory)\n",
        "\n",
        "# List the extracted files\n",
        "extracted_files = os.listdir(extract_to_directory)\n",
        "print(\"Extracted files:\", extracted_files)\n"
      ]
    },
    {
      "cell_type": "code",
      "source": [
        "zip_file_path = '/content/archive (3).zip'\n",
        "\n",
        "extract_to_directory = 'speech/'\n",
        "\n",
        "with zipfile.ZipFile(zip_file_path, 'r') as zip_ref:\n",
        "    zip_ref.extractall(extract_to_directory)\n",
        "\n",
        "extracted_files = os.listdir(extract_to_directory)\n",
        "print(\"Extracted files:\", extracted_files)"
      ],
      "metadata": {
        "id": "IMIcD_R_N7l3"
      },
      "execution_count": null,
      "outputs": []
    },
    {
      "cell_type": "code",
      "source": [
        "dataset1_path = '/content/dataset1/ravdess_rewritten_8k'\n",
        "c = 0;\n",
        "for filename in os.listdir(dataset1_path):\n",
        "  c+=1;\n",
        "c\n",
        "\n",
        "total_len = len(os.listdir(dataset1_path))\n",
        "print(total_len,c)"
      ],
      "metadata": {
        "colab": {
          "base_uri": "https://localhost:8080/"
        },
        "id": "_1iqDEyiF8F6",
        "outputId": "f8f5f576-96e7-427a-a2e3-d8dd310e06b3"
      },
      "execution_count": null,
      "outputs": [
        {
          "output_type": "stream",
          "name": "stdout",
          "text": [
            "1440 1440\n"
          ]
        }
      ]
    },
    {
      "cell_type": "code",
      "source": [
        "speech_dir = '/content/speech/urbansound_8k'\n",
        "noise_dir = '/content/noise/ravdess_rewritten_8k'\n",
        "\n",
        "speech_files = glob(os.path.join(speech_dir, '*.wav'))\n",
        "noise_files = glob(os.path.join(noise_dir, '*.wav'))"
      ],
      "metadata": {
        "id": "1Jzb2hY_OktN"
      },
      "execution_count": null,
      "outputs": []
    },
    {
      "cell_type": "code",
      "source": [
        "import librosa\n",
        "import numpy as np\n",
        "import soundfile as sf\n",
        "from IPython.display import Audio, display"
      ],
      "metadata": {
        "id": "QNSJZP4qPLeR"
      },
      "execution_count": null,
      "outputs": []
    },
    {
      "cell_type": "code",
      "source": [
        "def mixing_sound(speech_file, noise_file, sr=22050):\n",
        "  speech, sr1 = librosa.load(speech_file,sr)\n",
        "  noise, sr2 = librosa.load(noise_file,sr)\n",
        "\n",
        "  if len(noise)>len(speech):\n",
        "    min_length = len(speech)\n",
        "  else\n",
        "    min_length = len(noise)\n",
        "\n",
        "  speech_segment = speech[:min_length]\n",
        "  noise_segment = noise[:min_length]\n",
        "\n",
        "  mixed_noise = noise_segment + speech_segment\n",
        "  mixed_noise = np.abs(mixed_noise)\n",
        "  # Normalization\n",
        "  mixed_noise = mixed_noise / np.max(mixed_noise)\n",
        "  return mixed_noise"
      ],
      "metadata": {
        "id": "0-YOVyDnO971"
      },
      "execution_count": null,
      "outputs": []
    },
    {
      "cell_type": "code",
      "source": [
        "# Making a folder to store my output\n",
        "output_path = '/content/output'\n",
        "os.makedirs(output_path, exist_ok=True)\n",
        "\n",
        "for i in range(1000):\n",
        "  speech_file = np.random.choice(speech_files)\n",
        "  noise_file = np.random.choice(noise_files)\n",
        "  nodes, sr = librosa.load(speech_file)\n",
        "  mix_audio = mixing_sound(speech_file, noise_file, sr=22050)\n",
        "  output_file = os.path.join(output_path, f'combined_{i+1}.wav')\n",
        "\n",
        "  sf.write(output_file, mix_audio, sr)"
      ],
      "metadata": {
        "id": "oe13neq4QXJo"
      },
      "execution_count": null,
      "outputs": []
    },
    {
      "cell_type": "code",
      "source": [
        "speech_file = np.random.choice(speech_files)\n",
        "noise_file = np.random.choice(noise_files)\n",
        "\n",
        "display(Audio(speech_file))\n",
        "display(Audio(noise_file))\n",
        "\n",
        "mix_audio = mixing_sound(speech_file, noise_file, sr=22050)\n",
        "display(Audio(mix_audio))"
      ],
      "metadata": {
        "id": "-bUxl7Pe4GLi"
      },
      "execution_count": null,
      "outputs": []
    },
    {
      "cell_type": "code",
      "source": [
        "# display(Audio(mixed_audio, rate=22050))"
      ],
      "metadata": {
        "id": "rsO655Qg356r"
      },
      "execution_count": null,
      "outputs": []
    }
  ]
}